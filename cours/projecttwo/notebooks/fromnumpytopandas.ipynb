{
 "metadata": {
  "language_info": {
   "codemirror_mode": {
    "name": "ipython",
    "version": 3
   },
   "file_extension": ".py",
   "mimetype": "text/x-python",
   "name": "python",
   "nbconvert_exporter": "python",
   "pygments_lexer": "ipython3",
   "version": "3.9.2-final"
  },
  "orig_nbformat": 2,
  "kernelspec": {
   "name": "python392jvsc74a57bd04cd7ab41f5fca4b9b44701077e38c5ffd31fe66a6cab21e0214b68d958d0e462",
   "display_name": "Python 3.9.2 64-bit"
  }
 },
 "nbformat": 4,
 "nbformat_minor": 2,
 "cells": [
  {
   "cell_type": "code",
   "execution_count": 1,
   "metadata": {},
   "outputs": [],
   "source": [
    "import numpy as np"
   ]
  },
  {
   "cell_type": "code",
   "execution_count": 2,
   "metadata": {},
   "outputs": [
    {
     "output_type": "execute_result",
     "data": {
      "text/plain": [
       "array([100,   5,  20,  50])"
      ]
     },
     "metadata": {},
     "execution_count": 2
    }
   ],
   "source": [
    "a_panda_numpy = np.array([100, 5, 20, 50])\n",
    "a_panda_numpy"
   ]
  },
  {
   "cell_type": "code",
   "execution_count": 3,
   "metadata": {},
   "outputs": [
    {
     "output_type": "execute_result",
     "data": {
      "text/plain": [
       "array([[100. ,   5. ,  20. ,  80. ],\n",
       "       [ 50. ,   2.5,  10. ,  40. ],\n",
       "       [110. ,   6. ,  22. ,  80. ]])"
      ]
     },
     "metadata": {},
     "execution_count": 3
    }
   ],
   "source": [
    "panda_family = [\n",
    "    [100, 5, 20, 80], # panda mother\n",
    "    [50, 2.5, 10, 40], # panda baby\n",
    "    [110, 6, 22, 80], # panda father\n",
    "]\n",
    "family_panda_numpy = np.array(panda_family)\n",
    "family_panda_numpy"
   ]
  },
  {
   "cell_type": "code",
   "execution_count": 4,
   "metadata": {},
   "outputs": [
    {
     "output_type": "execute_result",
     "data": {
      "text/plain": [
       "110.0"
      ]
     },
     "metadata": {},
     "execution_count": 4
    }
   ],
   "source": [
    "family_panda_numpy[2, 0]"
   ]
  },
  {
   "cell_type": "code",
   "execution_count": 5,
   "metadata": {},
   "outputs": [],
   "source": [
    "import pandas as pd\n"
   ]
  },
  {
   "cell_type": "code",
   "execution_count": null,
   "metadata": {},
   "outputs": [],
   "source": []
  },
  {
   "cell_type": "code",
   "execution_count": 6,
   "metadata": {},
   "outputs": [],
   "source": [
    "family_panda_df = pd.DataFrame(family_panda_numpy, \n",
    "                                index=[\"mother\", \"bayby\", \"father\"], \n",
    "                                columns =[\"paws\", \"hair\", \"tail\", \"belly\"])"
   ]
  },
  {
   "cell_type": "code",
   "execution_count": 7,
   "metadata": {},
   "outputs": [
    {
     "output_type": "execute_result",
     "data": {
      "text/plain": [
       "         paws  hair  tail  belly\n",
       "mother  100.0   5.0  20.0   80.0\n",
       "bayby    50.0   2.5  10.0   40.0\n",
       "father  110.0   6.0  22.0   80.0"
      ],
      "text/html": "<div>\n<style scoped>\n    .dataframe tbody tr th:only-of-type {\n        vertical-align: middle;\n    }\n\n    .dataframe tbody tr th {\n        vertical-align: top;\n    }\n\n    .dataframe thead th {\n        text-align: right;\n    }\n</style>\n<table border=\"1\" class=\"dataframe\">\n  <thead>\n    <tr style=\"text-align: right;\">\n      <th></th>\n      <th>paws</th>\n      <th>hair</th>\n      <th>tail</th>\n      <th>belly</th>\n    </tr>\n  </thead>\n  <tbody>\n    <tr>\n      <th>mother</th>\n      <td>100.0</td>\n      <td>5.0</td>\n      <td>20.0</td>\n      <td>80.0</td>\n    </tr>\n    <tr>\n      <th>bayby</th>\n      <td>50.0</td>\n      <td>2.5</td>\n      <td>10.0</td>\n      <td>40.0</td>\n    </tr>\n    <tr>\n      <th>father</th>\n      <td>110.0</td>\n      <td>6.0</td>\n      <td>22.0</td>\n      <td>80.0</td>\n    </tr>\n  </tbody>\n</table>\n</div>"
     },
     "metadata": {},
     "execution_count": 7
    }
   ],
   "source": [
    "family_panda_df"
   ]
  },
  {
   "cell_type": "code",
   "execution_count": 8,
   "metadata": {},
   "outputs": [
    {
     "output_type": "execute_result",
     "data": {
      "text/plain": [
       "mother    80.0\n",
       "bayby     40.0\n",
       "father    80.0\n",
       "Name: belly, dtype: float64"
      ]
     },
     "metadata": {},
     "execution_count": 8
    }
   ],
   "source": [
    "family_panda_df.belly"
   ]
  },
  {
   "cell_type": "code",
   "execution_count": 9,
   "metadata": {},
   "outputs": [
    {
     "output_type": "execute_result",
     "data": {
      "text/plain": [
       "paws     110.0\n",
       "hair       6.0\n",
       "tail      22.0\n",
       "belly     80.0\n",
       "Name: father, dtype: float64"
      ]
     },
     "metadata": {},
     "execution_count": 9
    }
   ],
   "source": [
    "family_panda_df.loc[\"father\"]"
   ]
  },
  {
   "cell_type": "code",
   "execution_count": 10,
   "metadata": {},
   "outputs": [
    {
     "output_type": "execute_result",
     "data": {
      "text/plain": [
       "paws     50.0\n",
       "hair      2.5\n",
       "tail     10.0\n",
       "belly    40.0\n",
       "Name: bayby, dtype: float64"
      ]
     },
     "metadata": {},
     "execution_count": 10
    }
   ],
   "source": [
    "family_panda_df.iloc[1]"
   ]
  },
  {
   "cell_type": "code",
   "execution_count": 11,
   "metadata": {},
   "outputs": [
    {
     "output_type": "execute_result",
     "data": {
      "text/plain": [
       "         paws  hair  tail  belly\n",
       "mother  100.0   5.0  20.0   80.0\n",
       "father  110.0   6.0  22.0   80.0"
      ],
      "text/html": "<div>\n<style scoped>\n    .dataframe tbody tr th:only-of-type {\n        vertical-align: middle;\n    }\n\n    .dataframe tbody tr th {\n        vertical-align: top;\n    }\n\n    .dataframe thead th {\n        text-align: right;\n    }\n</style>\n<table border=\"1\" class=\"dataframe\">\n  <thead>\n    <tr style=\"text-align: right;\">\n      <th></th>\n      <th>paws</th>\n      <th>hair</th>\n      <th>tail</th>\n      <th>belly</th>\n    </tr>\n  </thead>\n  <tbody>\n    <tr>\n      <th>mother</th>\n      <td>100.0</td>\n      <td>5.0</td>\n      <td>20.0</td>\n      <td>80.0</td>\n    </tr>\n    <tr>\n      <th>father</th>\n      <td>110.0</td>\n      <td>6.0</td>\n      <td>22.0</td>\n      <td>80.0</td>\n    </tr>\n  </tbody>\n</table>\n</div>"
     },
     "metadata": {},
     "execution_count": 11
    }
   ],
   "source": [
    "family_panda_df[family_panda_df.belly==80]"
   ]
  },
  {
   "cell_type": "code",
   "execution_count": 12,
   "metadata": {},
   "outputs": [],
   "source": [
    "others_pandas = pd.DataFrame([[105, 4, 19, 80], [100, 5, 20, 80]], columns=family_panda_df.columns)"
   ]
  },
  {
   "cell_type": "code",
   "execution_count": 13,
   "metadata": {},
   "outputs": [
    {
     "output_type": "execute_result",
     "data": {
      "text/plain": [
       "         paws  hair  tail  belly\n",
       "mother  100.0   5.0  20.0   80.0\n",
       "bayby    50.0   2.5  10.0   40.0\n",
       "father  110.0   6.0  22.0   80.0\n",
       "0       105.0   4.0  19.0   80.0\n",
       "1       100.0   5.0  20.0   80.0"
      ],
      "text/html": "<div>\n<style scoped>\n    .dataframe tbody tr th:only-of-type {\n        vertical-align: middle;\n    }\n\n    .dataframe tbody tr th {\n        vertical-align: top;\n    }\n\n    .dataframe thead th {\n        text-align: right;\n    }\n</style>\n<table border=\"1\" class=\"dataframe\">\n  <thead>\n    <tr style=\"text-align: right;\">\n      <th></th>\n      <th>paws</th>\n      <th>hair</th>\n      <th>tail</th>\n      <th>belly</th>\n    </tr>\n  </thead>\n  <tbody>\n    <tr>\n      <th>mother</th>\n      <td>100.0</td>\n      <td>5.0</td>\n      <td>20.0</td>\n      <td>80.0</td>\n    </tr>\n    <tr>\n      <th>bayby</th>\n      <td>50.0</td>\n      <td>2.5</td>\n      <td>10.0</td>\n      <td>40.0</td>\n    </tr>\n    <tr>\n      <th>father</th>\n      <td>110.0</td>\n      <td>6.0</td>\n      <td>22.0</td>\n      <td>80.0</td>\n    </tr>\n    <tr>\n      <th>0</th>\n      <td>105.0</td>\n      <td>4.0</td>\n      <td>19.0</td>\n      <td>80.0</td>\n    </tr>\n    <tr>\n      <th>1</th>\n      <td>100.0</td>\n      <td>5.0</td>\n      <td>20.0</td>\n      <td>80.0</td>\n    </tr>\n  </tbody>\n</table>\n</div>"
     },
     "metadata": {},
     "execution_count": 13
    }
   ],
   "source": [
    "total_pandas = family_panda_df.append(others_pandas)\n",
    "total_pandas"
   ]
  },
  {
   "cell_type": "code",
   "execution_count": 14,
   "metadata": {},
   "outputs": [
    {
     "output_type": "execute_result",
     "data": {
      "text/plain": [
       "         paws  hair  tail  belly\n",
       "mother  100.0   5.0  20.0   80.0\n",
       "bayby    50.0   2.5  10.0   40.0\n",
       "father  110.0   6.0  22.0   80.0\n",
       "0       105.0   4.0  19.0   80.0"
      ],
      "text/html": "<div>\n<style scoped>\n    .dataframe tbody tr th:only-of-type {\n        vertical-align: middle;\n    }\n\n    .dataframe tbody tr th {\n        vertical-align: top;\n    }\n\n    .dataframe thead th {\n        text-align: right;\n    }\n</style>\n<table border=\"1\" class=\"dataframe\">\n  <thead>\n    <tr style=\"text-align: right;\">\n      <th></th>\n      <th>paws</th>\n      <th>hair</th>\n      <th>tail</th>\n      <th>belly</th>\n    </tr>\n  </thead>\n  <tbody>\n    <tr>\n      <th>mother</th>\n      <td>100.0</td>\n      <td>5.0</td>\n      <td>20.0</td>\n      <td>80.0</td>\n    </tr>\n    <tr>\n      <th>bayby</th>\n      <td>50.0</td>\n      <td>2.5</td>\n      <td>10.0</td>\n      <td>40.0</td>\n    </tr>\n    <tr>\n      <th>father</th>\n      <td>110.0</td>\n      <td>6.0</td>\n      <td>22.0</td>\n      <td>80.0</td>\n    </tr>\n    <tr>\n      <th>0</th>\n      <td>105.0</td>\n      <td>4.0</td>\n      <td>19.0</td>\n      <td>80.0</td>\n    </tr>\n  </tbody>\n</table>\n</div>"
     },
     "metadata": {},
     "execution_count": 14
    }
   ],
   "source": [
    "total_pandas.drop_duplicates()"
   ]
  },
  {
   "cell_type": "code",
   "execution_count": 15,
   "metadata": {},
   "outputs": [],
   "source": [
    "family_panda_df[\"age\"]=[10, 15, 5]"
   ]
  },
  {
   "cell_type": "code",
   "execution_count": 16,
   "metadata": {},
   "outputs": [
    {
     "output_type": "execute_result",
     "data": {
      "text/plain": [
       "         paws  hair  tail  belly  age\n",
       "mother  100.0   5.0  20.0   80.0   10\n",
       "bayby    50.0   2.5  10.0   40.0   15\n",
       "father  110.0   6.0  22.0   80.0    5"
      ],
      "text/html": "<div>\n<style scoped>\n    .dataframe tbody tr th:only-of-type {\n        vertical-align: middle;\n    }\n\n    .dataframe tbody tr th {\n        vertical-align: top;\n    }\n\n    .dataframe thead th {\n        text-align: right;\n    }\n</style>\n<table border=\"1\" class=\"dataframe\">\n  <thead>\n    <tr style=\"text-align: right;\">\n      <th></th>\n      <th>paws</th>\n      <th>hair</th>\n      <th>tail</th>\n      <th>belly</th>\n      <th>age</th>\n    </tr>\n  </thead>\n  <tbody>\n    <tr>\n      <th>mother</th>\n      <td>100.0</td>\n      <td>5.0</td>\n      <td>20.0</td>\n      <td>80.0</td>\n      <td>10</td>\n    </tr>\n    <tr>\n      <th>bayby</th>\n      <td>50.0</td>\n      <td>2.5</td>\n      <td>10.0</td>\n      <td>40.0</td>\n      <td>15</td>\n    </tr>\n    <tr>\n      <th>father</th>\n      <td>110.0</td>\n      <td>6.0</td>\n      <td>22.0</td>\n      <td>80.0</td>\n      <td>5</td>\n    </tr>\n  </tbody>\n</table>\n</div>"
     },
     "metadata": {},
     "execution_count": 16
    }
   ],
   "source": [
    "family_panda_df"
   ]
  },
  {
   "cell_type": "code",
   "execution_count": 17,
   "metadata": {},
   "outputs": [
    {
     "output_type": "execute_result",
     "data": {
      "text/plain": [
       "array([80., 40., 80.])"
      ]
     },
     "metadata": {},
     "execution_count": 17
    }
   ],
   "source": [
    "family_panda_df[\"belly\"].values"
   ]
  },
  {
   "cell_type": "code",
   "execution_count": 18,
   "metadata": {},
   "outputs": [
    {
     "output_type": "execute_result",
     "data": {
      "text/plain": [
       "mother    80.0\n",
       "bayby     40.0\n",
       "father    80.0\n",
       "Name: belly, dtype: float64"
      ]
     },
     "metadata": {},
     "execution_count": 18
    }
   ],
   "source": [
    "family_panda_df[\"belly\"]"
   ]
  },
  {
   "cell_type": "code",
   "execution_count": 19,
   "metadata": {},
   "outputs": [
    {
     "output_type": "stream",
     "name": "stdout",
     "text": [
      "Voici le panda mother :\npaws     100.0\nhair       5.0\ntail      20.0\nbelly     80.0\nage       10.0\nName: mother, dtype: float64\n--------------------\nVoici le panda bayby :\npaws     50.0\nhair      2.5\ntail     10.0\nbelly    40.0\nage      15.0\nName: bayby, dtype: float64\n--------------------\nVoici le panda father :\npaws     110.0\nhair       6.0\ntail      22.0\nbelly     80.0\nage        5.0\nName: father, dtype: float64\n--------------------\n"
     ]
    }
   ],
   "source": [
    "for ind_ligne, contenu_ligne in family_panda_df.iterrows():\n",
    "    print(\"Voici le panda %s :\" % ind_ligne)\n",
    "    print(contenu_ligne)\n",
    "    print(\"--------------------\")"
   ]
  },
  {
   "cell_type": "code",
   "execution_count": 20,
   "metadata": {},
   "outputs": [
    {
     "output_type": "execute_result",
     "data": {
      "text/plain": [
       "         paws  hair  tail  belly  age\n",
       "mother  100.0   5.0  20.0   80.0   10\n",
       "father  110.0   6.0  22.0   80.0    5"
      ],
      "text/html": "<div>\n<style scoped>\n    .dataframe tbody tr th:only-of-type {\n        vertical-align: middle;\n    }\n\n    .dataframe tbody tr th {\n        vertical-align: top;\n    }\n\n    .dataframe thead th {\n        text-align: right;\n    }\n</style>\n<table border=\"1\" class=\"dataframe\">\n  <thead>\n    <tr style=\"text-align: right;\">\n      <th></th>\n      <th>paws</th>\n      <th>hair</th>\n      <th>tail</th>\n      <th>belly</th>\n      <th>age</th>\n    </tr>\n  </thead>\n  <tbody>\n    <tr>\n      <th>mother</th>\n      <td>100.0</td>\n      <td>5.0</td>\n      <td>20.0</td>\n      <td>80.0</td>\n      <td>10</td>\n    </tr>\n    <tr>\n      <th>father</th>\n      <td>110.0</td>\n      <td>6.0</td>\n      <td>22.0</td>\n      <td>80.0</td>\n      <td>5</td>\n    </tr>\n  </tbody>\n</table>\n</div>"
     },
     "metadata": {},
     "execution_count": 20
    }
   ],
   "source": [
    "masque = family_panda_df[\"belly\"] == 80\n",
    "pandas = family_panda_df[masque]\n",
    "pandas"
   ]
  },
  {
   "cell_type": "code",
   "execution_count": 21,
   "metadata": {},
   "outputs": [
    {
     "output_type": "execute_result",
     "data": {
      "text/plain": [
       "       paws  hair  tail  belly  age\n",
       "bayby  50.0   2.5  10.0   40.0   15"
      ],
      "text/html": "<div>\n<style scoped>\n    .dataframe tbody tr th:only-of-type {\n        vertical-align: middle;\n    }\n\n    .dataframe tbody tr th {\n        vertical-align: top;\n    }\n\n    .dataframe thead th {\n        text-align: right;\n    }\n</style>\n<table border=\"1\" class=\"dataframe\">\n  <thead>\n    <tr style=\"text-align: right;\">\n      <th></th>\n      <th>paws</th>\n      <th>hair</th>\n      <th>tail</th>\n      <th>belly</th>\n      <th>age</th>\n    </tr>\n  </thead>\n  <tbody>\n    <tr>\n      <th>bayby</th>\n      <td>50.0</td>\n      <td>2.5</td>\n      <td>10.0</td>\n      <td>40.0</td>\n      <td>15</td>\n    </tr>\n  </tbody>\n</table>\n</div>"
     },
     "metadata": {},
     "execution_count": 21
    }
   ],
   "source": [
    "masque2 = family_panda_df[\"belly\"] == 80\n",
    "pandas2 = family_panda_df[~masque2]\n",
    "pandas2"
   ]
  },
  {
   "cell_type": "code",
   "execution_count": 22,
   "metadata": {},
   "outputs": [
    {
     "output_type": "execute_result",
     "data": {
      "text/plain": [
       "         paws  hair  tail  belly\n",
       "mother  100.0   5.0  20.0   80.0\n",
       "bayby    50.0   2.5  10.0   40.0\n",
       "father  110.0   6.0  22.0   80.0\n",
       "0       105.0   4.0  19.0   80.0"
      ],
      "text/html": "<div>\n<style scoped>\n    .dataframe tbody tr th:only-of-type {\n        vertical-align: middle;\n    }\n\n    .dataframe tbody tr th {\n        vertical-align: top;\n    }\n\n    .dataframe thead th {\n        text-align: right;\n    }\n</style>\n<table border=\"1\" class=\"dataframe\">\n  <thead>\n    <tr style=\"text-align: right;\">\n      <th></th>\n      <th>paws</th>\n      <th>hair</th>\n      <th>tail</th>\n      <th>belly</th>\n    </tr>\n  </thead>\n  <tbody>\n    <tr>\n      <th>mother</th>\n      <td>100.0</td>\n      <td>5.0</td>\n      <td>20.0</td>\n      <td>80.0</td>\n    </tr>\n    <tr>\n      <th>bayby</th>\n      <td>50.0</td>\n      <td>2.5</td>\n      <td>10.0</td>\n      <td>40.0</td>\n    </tr>\n    <tr>\n      <th>father</th>\n      <td>110.0</td>\n      <td>6.0</td>\n      <td>22.0</td>\n      <td>80.0</td>\n    </tr>\n    <tr>\n      <th>0</th>\n      <td>105.0</td>\n      <td>4.0</td>\n      <td>19.0</td>\n      <td>80.0</td>\n    </tr>\n  </tbody>\n</table>\n</div>"
     },
     "metadata": {},
     "execution_count": 22
    }
   ],
   "source": [
    "uniques_pandas = total_pandas.drop_duplicates()\n",
    "uniques_pandas"
   ]
  },
  {
   "cell_type": "code",
   "execution_count": 26,
   "metadata": {},
   "outputs": [
    {
     "output_type": "stream",
     "name": "stderr",
     "text": [
      "<ipython-input-26-ab9712416058>:1: SettingWithCopyWarning: \nA value is trying to be set on a copy of a slice from a DataFrame.\nTry using .loc[row_indexer,col_indexer] = value instead\n\nSee the caveats in the documentation: https://pandas.pydata.org/pandas-docs/stable/user_guide/indexing.html#returning-a-view-versus-a-copy\n  uniques_pandas[\"sexe\"]=[\"f\", \"f\", \"m\", \"h\"]\n"
     ]
    }
   ],
   "source": [
    "uniques_pandas[\"sexe\"]=[\"f\", \"f\", \"m\", \"h\"] \n"
   ]
  },
  {
   "cell_type": "code",
   "execution_count": 24,
   "metadata": {},
   "outputs": [],
   "source": [
    "family_panda_df[\"sexe\"]=[\"f\", \"f\", \"m\"]"
   ]
  },
  {
   "cell_type": "code",
   "execution_count": 25,
   "metadata": {},
   "outputs": [
    {
     "output_type": "execute_result",
     "data": {
      "text/plain": [
       "         paws  hair  tail  belly  age sexe\n",
       "mother  100.0   5.0  20.0   80.0   10    f\n",
       "bayby    50.0   2.5  10.0   40.0   15    f\n",
       "father  110.0   6.0  22.0   80.0    5    m"
      ],
      "text/html": "<div>\n<style scoped>\n    .dataframe tbody tr th:only-of-type {\n        vertical-align: middle;\n    }\n\n    .dataframe tbody tr th {\n        vertical-align: top;\n    }\n\n    .dataframe thead th {\n        text-align: right;\n    }\n</style>\n<table border=\"1\" class=\"dataframe\">\n  <thead>\n    <tr style=\"text-align: right;\">\n      <th></th>\n      <th>paws</th>\n      <th>hair</th>\n      <th>tail</th>\n      <th>belly</th>\n      <th>age</th>\n      <th>sexe</th>\n    </tr>\n  </thead>\n  <tbody>\n    <tr>\n      <th>mother</th>\n      <td>100.0</td>\n      <td>5.0</td>\n      <td>20.0</td>\n      <td>80.0</td>\n      <td>10</td>\n      <td>f</td>\n    </tr>\n    <tr>\n      <th>bayby</th>\n      <td>50.0</td>\n      <td>2.5</td>\n      <td>10.0</td>\n      <td>40.0</td>\n      <td>15</td>\n      <td>f</td>\n    </tr>\n    <tr>\n      <th>father</th>\n      <td>110.0</td>\n      <td>6.0</td>\n      <td>22.0</td>\n      <td>80.0</td>\n      <td>5</td>\n      <td>m</td>\n    </tr>\n  </tbody>\n</table>\n</div>"
     },
     "metadata": {},
     "execution_count": 25
    }
   ],
   "source": [
    "family_panda_df"
   ]
  },
  {
   "cell_type": "code",
   "execution_count": 27,
   "metadata": {},
   "outputs": [
    {
     "output_type": "execute_result",
     "data": {
      "text/plain": [
       "array([80., 40.])"
      ]
     },
     "metadata": {},
     "execution_count": 27
    }
   ],
   "source": [
    "# obtenir les valeurs distinctes d'une colonne :\n",
    "# pour la colonne ventre, il y a deux valeurs distinctes : 40 et 80\n",
    "family_panda_df.belly.unique()"
   ]
  },
  {
   "cell_type": "code",
   "execution_count": null,
   "metadata": {},
   "outputs": [],
   "source": []
  }
 ]
}
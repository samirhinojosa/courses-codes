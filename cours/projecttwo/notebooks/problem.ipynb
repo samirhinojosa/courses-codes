{
 "metadata": {
  "language_info": {
   "codemirror_mode": {
    "name": "ipython",
    "version": 3
   },
   "file_extension": ".py",
   "mimetype": "text/x-python",
   "name": "python",
   "nbconvert_exporter": "python",
   "pygments_lexer": "ipython3",
   "version": "3.9.2-final"
  },
  "orig_nbformat": 2,
  "kernelspec": {
   "name": "python392jvsc74a57bd04cd7ab41f5fca4b9b44701077e38c5ffd31fe66a6cab21e0214b68d958d0e462",
   "display_name": "Python 3.9.2 64-bit"
  }
 },
 "nbformat": 4,
 "nbformat_minor": 2,
 "cells": [
  {
   "cell_type": "code",
   "execution_count": null,
   "metadata": {},
   "outputs": [],
   "source": [
    "import pandas as pd \n",
    "\n",
    "#df1 = pd.read_csv(r'EdStatsCountry-Series.csv')\n",
    "df2 = pd.read_csv(r'EdStatsCountry.csv')\n",
    "#df3 = pd.read_csv(r'EdStatsData.csv')\n",
    "#df4 = pd.read_csv(r'EdStatsFootNote.csv')\n",
    "#df5 = pd.read_csv(r'EdStatsSeries')\n",
    "\n",
    "df2.head()"
   ]
  },
  {
   "cell_type": "code",
   "execution_count": null,
   "metadata": {},
   "outputs": [],
   "source": [
    "df2.columns\n"
   ]
  },
  {
   "cell_type": "code",
   "execution_count": null,
   "metadata": {},
   "outputs": [],
   "source": [
    "columns = [\"Country Code\", \"Short Name\", \"Region\", \"Currency Unit\", \"SNA price valuation\", \"Latest population census\", \"Income Group\", \"Source of most recent Income and expenditure data\"]\n",
    "df_country = df2[columns]"
   ]
  },
  {
   "cell_type": "code",
   "execution_count": null,
   "metadata": {},
   "outputs": [],
   "source": [
    "print(df_country.shape)\n",
    "print(df_country."
   ]
  },
  {
   "cell_type": "code",
   "execution_count": null,
   "metadata": {},
   "outputs": [],
   "source": []
  }
 ]
}
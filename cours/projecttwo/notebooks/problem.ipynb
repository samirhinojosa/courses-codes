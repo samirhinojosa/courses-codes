{
 "metadata": {
  "language_info": {
   "codemirror_mode": {
    "name": "ipython",
    "version": 3
   },
   "file_extension": ".py",
   "mimetype": "text/x-python",
   "name": "python",
   "nbconvert_exporter": "python",
   "pygments_lexer": "ipython3",
   "version": "3.9.2-final"
  },
  "orig_nbformat": 2,
  "kernelspec": {
   "name": "python392jvsc74a57bd04cd7ab41f5fca4b9b44701077e38c5ffd31fe66a6cab21e0214b68d958d0e462",
   "display_name": "Python 3.9.2 64-bit"
  }
 },
 "nbformat": 4,
 "nbformat_minor": 2,
 "cells": [
  {
   "cell_type": "code",
   "execution_count": 2,
   "metadata": {},
   "outputs": [
    {
     "output_type": "execute_result",
     "data": {
      "text/plain": [
       "  Country Code   Short Name   Table Name                     Long Name  \\\n",
       "0          ABW        Aruba        Aruba                         Aruba   \n",
       "1          AFG  Afghanistan  Afghanistan  Islamic State of Afghanistan   \n",
       "2          AGO       Angola       Angola   People's Republic of Angola   \n",
       "3          ALB      Albania      Albania           Republic of Albania   \n",
       "4          AND      Andorra      Andorra       Principality of Andorra   \n",
       "\n",
       "  2-alpha code   Currency Unit  \\\n",
       "0           AW   Aruban florin   \n",
       "1           AF  Afghan afghani   \n",
       "2           AO  Angolan kwanza   \n",
       "3           AL    Albanian lek   \n",
       "4           AD            Euro   \n",
       "\n",
       "                                       Special Notes  \\\n",
       "0  SNA data for 2000-2011 are updated from offici...   \n",
       "1  Fiscal year end: March 20; reporting period fo...   \n",
       "2  April 2013 database update: Based on IMF data,...   \n",
       "3                                                NaN   \n",
       "4                                                NaN   \n",
       "\n",
       "                      Region          Income Group WB-2 code  ...  \\\n",
       "0  Latin America & Caribbean  High income: nonOECD        AW  ...   \n",
       "1                 South Asia            Low income        AF  ...   \n",
       "2         Sub-Saharan Africa   Upper middle income        AO  ...   \n",
       "3      Europe & Central Asia   Upper middle income        AL  ...   \n",
       "4      Europe & Central Asia  High income: nonOECD        AD  ...   \n",
       "\n",
       "            IMF data dissemination standard  \\\n",
       "0                                       NaN   \n",
       "1  General Data Dissemination System (GDDS)   \n",
       "2  General Data Dissemination System (GDDS)   \n",
       "3  General Data Dissemination System (GDDS)   \n",
       "4                                       NaN   \n",
       "\n",
       "                            Latest population census  \\\n",
       "0                                               2010   \n",
       "1                                               1979   \n",
       "2                                               1970   \n",
       "3                                               2011   \n",
       "4  2011. Population figures compiled from adminis...   \n",
       "\n",
       "                             Latest household survey  \\\n",
       "0                                                NaN   \n",
       "1  Multiple Indicator Cluster Survey (MICS), 2010/11   \n",
       "2               Malaria Indicator Survey (MIS), 2011   \n",
       "3       Demographic and Health Survey (DHS), 2008/09   \n",
       "4                                                NaN   \n",
       "\n",
       "   Source of most recent Income and expenditure data  \\\n",
       "0                                                NaN   \n",
       "1            Integrated household survey (IHS), 2008   \n",
       "2            Integrated household survey (IHS), 2008   \n",
       "3  Living Standards Measurement Study Survey (LSM...   \n",
       "4                                                NaN   \n",
       "\n",
       "  Vital registration complete Latest agricultural census  \\\n",
       "0                         Yes                        NaN   \n",
       "1                         NaN                    2013/14   \n",
       "2                         NaN                       2015   \n",
       "3                         Yes                       2012   \n",
       "4                         Yes                        NaN   \n",
       "\n",
       "  Latest industrial data Latest trade data Latest water withdrawal data  \\\n",
       "0                    NaN            2012.0                          NaN   \n",
       "1                    NaN            2012.0                         2000   \n",
       "2                    NaN               NaN                         2005   \n",
       "3                 2010.0            2012.0                         2006   \n",
       "4                    NaN            2006.0                          NaN   \n",
       "\n",
       "  Unnamed: 31  \n",
       "0         NaN  \n",
       "1         NaN  \n",
       "2         NaN  \n",
       "3         NaN  \n",
       "4         NaN  \n",
       "\n",
       "[5 rows x 32 columns]"
      ],
      "text/html": "<div>\n<style scoped>\n    .dataframe tbody tr th:only-of-type {\n        vertical-align: middle;\n    }\n\n    .dataframe tbody tr th {\n        vertical-align: top;\n    }\n\n    .dataframe thead th {\n        text-align: right;\n    }\n</style>\n<table border=\"1\" class=\"dataframe\">\n  <thead>\n    <tr style=\"text-align: right;\">\n      <th></th>\n      <th>Country Code</th>\n      <th>Short Name</th>\n      <th>Table Name</th>\n      <th>Long Name</th>\n      <th>2-alpha code</th>\n      <th>Currency Unit</th>\n      <th>Special Notes</th>\n      <th>Region</th>\n      <th>Income Group</th>\n      <th>WB-2 code</th>\n      <th>...</th>\n      <th>IMF data dissemination standard</th>\n      <th>Latest population census</th>\n      <th>Latest household survey</th>\n      <th>Source of most recent Income and expenditure data</th>\n      <th>Vital registration complete</th>\n      <th>Latest agricultural census</th>\n      <th>Latest industrial data</th>\n      <th>Latest trade data</th>\n      <th>Latest water withdrawal data</th>\n      <th>Unnamed: 31</th>\n    </tr>\n  </thead>\n  <tbody>\n    <tr>\n      <th>0</th>\n      <td>ABW</td>\n      <td>Aruba</td>\n      <td>Aruba</td>\n      <td>Aruba</td>\n      <td>AW</td>\n      <td>Aruban florin</td>\n      <td>SNA data for 2000-2011 are updated from offici...</td>\n      <td>Latin America &amp; Caribbean</td>\n      <td>High income: nonOECD</td>\n      <td>AW</td>\n      <td>...</td>\n      <td>NaN</td>\n      <td>2010</td>\n      <td>NaN</td>\n      <td>NaN</td>\n      <td>Yes</td>\n      <td>NaN</td>\n      <td>NaN</td>\n      <td>2012.0</td>\n      <td>NaN</td>\n      <td>NaN</td>\n    </tr>\n    <tr>\n      <th>1</th>\n      <td>AFG</td>\n      <td>Afghanistan</td>\n      <td>Afghanistan</td>\n      <td>Islamic State of Afghanistan</td>\n      <td>AF</td>\n      <td>Afghan afghani</td>\n      <td>Fiscal year end: March 20; reporting period fo...</td>\n      <td>South Asia</td>\n      <td>Low income</td>\n      <td>AF</td>\n      <td>...</td>\n      <td>General Data Dissemination System (GDDS)</td>\n      <td>1979</td>\n      <td>Multiple Indicator Cluster Survey (MICS), 2010/11</td>\n      <td>Integrated household survey (IHS), 2008</td>\n      <td>NaN</td>\n      <td>2013/14</td>\n      <td>NaN</td>\n      <td>2012.0</td>\n      <td>2000</td>\n      <td>NaN</td>\n    </tr>\n    <tr>\n      <th>2</th>\n      <td>AGO</td>\n      <td>Angola</td>\n      <td>Angola</td>\n      <td>People's Republic of Angola</td>\n      <td>AO</td>\n      <td>Angolan kwanza</td>\n      <td>April 2013 database update: Based on IMF data,...</td>\n      <td>Sub-Saharan Africa</td>\n      <td>Upper middle income</td>\n      <td>AO</td>\n      <td>...</td>\n      <td>General Data Dissemination System (GDDS)</td>\n      <td>1970</td>\n      <td>Malaria Indicator Survey (MIS), 2011</td>\n      <td>Integrated household survey (IHS), 2008</td>\n      <td>NaN</td>\n      <td>2015</td>\n      <td>NaN</td>\n      <td>NaN</td>\n      <td>2005</td>\n      <td>NaN</td>\n    </tr>\n    <tr>\n      <th>3</th>\n      <td>ALB</td>\n      <td>Albania</td>\n      <td>Albania</td>\n      <td>Republic of Albania</td>\n      <td>AL</td>\n      <td>Albanian lek</td>\n      <td>NaN</td>\n      <td>Europe &amp; Central Asia</td>\n      <td>Upper middle income</td>\n      <td>AL</td>\n      <td>...</td>\n      <td>General Data Dissemination System (GDDS)</td>\n      <td>2011</td>\n      <td>Demographic and Health Survey (DHS), 2008/09</td>\n      <td>Living Standards Measurement Study Survey (LSM...</td>\n      <td>Yes</td>\n      <td>2012</td>\n      <td>2010.0</td>\n      <td>2012.0</td>\n      <td>2006</td>\n      <td>NaN</td>\n    </tr>\n    <tr>\n      <th>4</th>\n      <td>AND</td>\n      <td>Andorra</td>\n      <td>Andorra</td>\n      <td>Principality of Andorra</td>\n      <td>AD</td>\n      <td>Euro</td>\n      <td>NaN</td>\n      <td>Europe &amp; Central Asia</td>\n      <td>High income: nonOECD</td>\n      <td>AD</td>\n      <td>...</td>\n      <td>NaN</td>\n      <td>2011. Population figures compiled from adminis...</td>\n      <td>NaN</td>\n      <td>NaN</td>\n      <td>Yes</td>\n      <td>NaN</td>\n      <td>NaN</td>\n      <td>2006.0</td>\n      <td>NaN</td>\n      <td>NaN</td>\n    </tr>\n  </tbody>\n</table>\n<p>5 rows × 32 columns</p>\n</div>"
     },
     "metadata": {},
     "execution_count": 2
    }
   ],
   "source": [
    "import pandas as pd \n",
    "\n",
    "#df1 = pd.read_csv(r'EdStatsCountry-Series.csv')\n",
    "df2 = pd.read_csv(r'EdStatsCountry.csv')\n",
    "#df3 = pd.read_csv(r'EdStatsData.csv')\n",
    "#df4 = pd.read_csv(r'EdStatsFootNote.csv')\n",
    "#df5 = pd.read_csv(r'EdStatsSeries')\n",
    "\n",
    "df2.head()"
   ]
  },
  {
   "cell_type": "code",
   "execution_count": 3,
   "metadata": {},
   "outputs": [
    {
     "output_type": "execute_result",
     "data": {
      "text/plain": [
       "Index(['Country Code', 'Short Name', 'Table Name', 'Long Name', '2-alpha code',\n",
       "       'Currency Unit', 'Special Notes', 'Region', 'Income Group', 'WB-2 code',\n",
       "       'National accounts base year', 'National accounts reference year',\n",
       "       'SNA price valuation', 'Lending category', 'Other groups',\n",
       "       'System of National Accounts', 'Alternative conversion factor',\n",
       "       'PPP survey year', 'Balance of Payments Manual in use',\n",
       "       'External debt Reporting status', 'System of trade',\n",
       "       'Government Accounting concept', 'IMF data dissemination standard',\n",
       "       'Latest population census', 'Latest household survey',\n",
       "       'Source of most recent Income and expenditure data',\n",
       "       'Vital registration complete', 'Latest agricultural census',\n",
       "       'Latest industrial data', 'Latest trade data',\n",
       "       'Latest water withdrawal data', 'Unnamed: 31'],\n",
       "      dtype='object')"
      ]
     },
     "metadata": {},
     "execution_count": 3
    }
   ],
   "source": [
    "df2.columns\n"
   ]
  },
  {
   "cell_type": "code",
   "execution_count": 4,
   "metadata": {},
   "outputs": [],
   "source": [
    "columns = [\"Country Code\", \"Short Name\", \"Region\", \"Currency Unit\", \"SNA price valuation\", \"Latest population census\", \"Income Group\", \"Source of most recent Income and expenditure data\"]\n",
    "df_country = df2[columns]"
   ]
  },
  {
   "cell_type": "code",
   "execution_count": 5,
   "metadata": {},
   "outputs": [
    {
     "output_type": "stream",
     "name": "stdout",
     "text": [
      "(241, 8)\n    Country Code    Short Name                      Region  \\\n0            ABW         Aruba   Latin America & Caribbean   \n1            AFG   Afghanistan                  South Asia   \n2            AGO        Angola          Sub-Saharan Africa   \n3            ALB       Albania       Europe & Central Asia   \n4            AND       Andorra       Europe & Central Asia   \n..           ...           ...                         ...   \n236          XKX        Kosovo       Europe & Central Asia   \n237          YEM         Yemen  Middle East & North Africa   \n238          ZAF  South Africa          Sub-Saharan Africa   \n239          ZMB        Zambia          Sub-Saharan Africa   \n240          ZWE      Zimbabwe          Sub-Saharan Africa   \n\n          Currency Unit                   SNA price valuation  \\\n0         Aruban florin     Value added at basic prices (VAB)   \n1        Afghan afghani     Value added at basic prices (VAB)   \n2        Angolan kwanza  Value added at producer prices (VAP)   \n3          Albanian lek     Value added at basic prices (VAB)   \n4                  Euro                                   NaN   \n..                  ...                                   ...   \n236                Euro     Value added at basic prices (VAB)   \n237         Yemeni rial  Value added at producer prices (VAP)   \n238  South African rand     Value added at basic prices (VAB)   \n239  New Zambian kwacha     Value added at basic prices (VAB)   \n240         U.S. dollar     Value added at basic prices (VAB)   \n\n                              Latest population census          Income Group  \\\n0                                                 2010  High income: nonOECD   \n1                                                 1979            Low income   \n2                                                 1970   Upper middle income   \n3                                                 2011   Upper middle income   \n4    2011. Population figures compiled from adminis...  High income: nonOECD   \n..                                                 ...                   ...   \n236                                               2011   Lower middle income   \n237                                               2004   Lower middle income   \n238                                               2011   Upper middle income   \n239                                               2010   Lower middle income   \n240                                               2012            Low income   \n\n     Source of most recent Income and expenditure data  \n0                                                  NaN  \n1              Integrated household survey (IHS), 2008  \n2              Integrated household survey (IHS), 2008  \n3    Living Standards Measurement Study Survey (LSM...  \n4                                                  NaN  \n..                                                 ...  \n236            Integrated household survey (IHS), 2011  \n237     Expenditure survey/budget survey (ES/BS), 2005  \n238     Expenditure survey/budget survey (ES/BS), 2010  \n239            Integrated household survey (IHS), 2010  \n240         Integrated household survey (IHS), 2011/12  \n\n[241 rows x 8 columns]\n"
     ]
    }
   ],
   "source": [
    "print(df_country.shape)\n",
    "print(df_country."
   ]
  },
  {
   "cell_type": "code",
   "execution_count": null,
   "metadata": {},
   "outputs": [],
   "source": []
  }
 ]
}
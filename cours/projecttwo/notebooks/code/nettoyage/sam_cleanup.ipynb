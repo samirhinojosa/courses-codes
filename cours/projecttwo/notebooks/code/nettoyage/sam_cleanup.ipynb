{
 "metadata": {
  "language_info": {
   "codemirror_mode": {
    "name": "ipython",
    "version": 3
   },
   "file_extension": ".py",
   "mimetype": "text/x-python",
   "name": "python",
   "nbconvert_exporter": "python",
   "pygments_lexer": "ipython3",
   "version": "3.9.2-final"
  },
  "orig_nbformat": 2,
  "kernelspec": {
   "name": "python392jvsc74a57bd04cd7ab41f5fca4b9b44701077e38c5ffd31fe66a6cab21e0214b68d958d0e462",
   "display_name": "Python 3.9.2 64-bit"
  }
 },
 "nbformat": 4,
 "nbformat_minor": 2,
 "cells": [
  {
   "cell_type": "code",
   "execution_count": 1,
   "metadata": {},
   "outputs": [],
   "source": [
    "import pandas as pd\n",
    "import numpy as np\n",
    "import re"
   ]
  },
  {
   "cell_type": "code",
   "execution_count": 2,
   "metadata": {},
   "outputs": [
    {
     "output_type": "execute_result",
     "data": {
      "text/plain": [
       "   prenom                                   email date_naissance  \\\n",
       "0   Leila                       leila@example.com     23/01/1990   \n",
       "1  Samuel                  samuel_329@example.com     20/09/2001   \n",
       "2   Radia                choupipoune@supermail.eu  12 sept. 1984   \n",
       "3    Marc  marco23@example.com, mc23@supermail.eu     10/02/1978   \n",
       "4    Heri                 helloworld@supermail.eu     05/03/2008   \n",
       "\n",
       "            pays taille  \n",
       "0         France  1.49m  \n",
       "1            NaN  1.67m  \n",
       "2  Côte d'ivoire  153cm  \n",
       "3         France  1.65m  \n",
       "4     Madagascar  1.34m  "
      ],
      "text/html": "<div>\n<style scoped>\n    .dataframe tbody tr th:only-of-type {\n        vertical-align: middle;\n    }\n\n    .dataframe tbody tr th {\n        vertical-align: top;\n    }\n\n    .dataframe thead th {\n        text-align: right;\n    }\n</style>\n<table border=\"1\" class=\"dataframe\">\n  <thead>\n    <tr style=\"text-align: right;\">\n      <th></th>\n      <th>prenom</th>\n      <th>email</th>\n      <th>date_naissance</th>\n      <th>pays</th>\n      <th>taille</th>\n    </tr>\n  </thead>\n  <tbody>\n    <tr>\n      <th>0</th>\n      <td>Leila</td>\n      <td>leila@example.com</td>\n      <td>23/01/1990</td>\n      <td>France</td>\n      <td>1.49m</td>\n    </tr>\n    <tr>\n      <th>1</th>\n      <td>Samuel</td>\n      <td>samuel_329@example.com</td>\n      <td>20/09/2001</td>\n      <td>NaN</td>\n      <td>1.67m</td>\n    </tr>\n    <tr>\n      <th>2</th>\n      <td>Radia</td>\n      <td>choupipoune@supermail.eu</td>\n      <td>12 sept. 1984</td>\n      <td>Côte d'ivoire</td>\n      <td>153cm</td>\n    </tr>\n    <tr>\n      <th>3</th>\n      <td>Marc</td>\n      <td>marco23@example.com, mc23@supermail.eu</td>\n      <td>10/02/1978</td>\n      <td>France</td>\n      <td>1.65m</td>\n    </tr>\n    <tr>\n      <th>4</th>\n      <td>Heri</td>\n      <td>helloworld@supermail.eu</td>\n      <td>05/03/2008</td>\n      <td>Madagascar</td>\n      <td>1.34m</td>\n    </tr>\n  </tbody>\n</table>\n</div>"
     },
     "metadata": {},
     "execution_count": 2
    }
   ],
   "source": [
    "data = pd.read_csv(\"personnes.csv\")\n",
    "data.head()"
   ]
  },
  {
   "cell_type": "code",
   "execution_count": 3,
   "metadata": {},
   "outputs": [
    {
     "output_type": "execute_result",
     "data": {
      "text/plain": [
       "\" def lower_case(value): \\n    print('Voici la valeur que je traite:', value)\\n    return value.lower()\\n\\ndata = pd.DataFrame([['A',1],\\n                     ['B',2],\\n                     ['C',3]], columns = ['lettre','position'])\\n\\nnouvelle_colonne = data['lettre'].apply(lower_case)\\nnouvelle_colonne = nouvelle_colonne.values\\nprint(nouvelle_colonne)\\ndata['lettre'] = nouvelle_colonne\\nprint(data) \""
      ]
     },
     "metadata": {},
     "execution_count": 3
    }
   ],
   "source": [
    "\n",
    "\"\"\" def lower_case(value): \n",
    "    print('Voici la valeur que je traite:', value)\n",
    "    return value.lower()\n",
    "\n",
    "data = pd.DataFrame([['A',1],\n",
    "                     ['B',2],\n",
    "                     ['C',3]], columns = ['lettre','position'])\n",
    "\n",
    "nouvelle_colonne = data['lettre'].apply(lower_case)\n",
    "nouvelle_colonne = nouvelle_colonne.values\n",
    "print(nouvelle_colonne)\n",
    "data['lettre'] = nouvelle_colonne\n",
    "print(data) \"\"\""
   ]
  },
  {
   "cell_type": "code",
   "execution_count": 4,
   "metadata": {},
   "outputs": [],
   "source": [
    "VALID_COUNTRIES = ['France', 'Côte d\\'ivoire', 'Madagascar', 'Bénin', 'Allemagne', 'USA']\n",
    "                  \n",
    "def check_country(country):\n",
    "    if country not in VALID_COUNTRIES:\n",
    "        print(' - \"{}\" n\\'est pas un pays valide, nous le supprimons.' \\\n",
    "            .format(country))\n",
    "        return np.NaN\n",
    "    return country"
   ]
  },
  {
   "cell_type": "code",
   "execution_count": 5,
   "metadata": {},
   "outputs": [],
   "source": [
    "def first(string):\n",
    "    parts = string.split(',')\n",
    "    first_part = parts[0]\n",
    "    if len(parts) >= 2:\n",
    "        print(' - Il y a plusieurs parties dans \"{}\", ne gardons que {}.'\\\n",
    "            .format(parts,first_part))  \n",
    "    return first_part"
   ]
  },
  {
   "cell_type": "code",
   "execution_count": 6,
   "metadata": {},
   "outputs": [],
   "source": [
    "def convert_height(height):\n",
    "    found = re.search('\\d\\.\\d{2}m', height)\n",
    "    if found is None:\n",
    "        print('{} n\\'est pas au bon format. Il sera ignoré.'.format(height))\n",
    "        return np.NaN\n",
    "    else:\n",
    "        value = height[:-1] # on enlève le dernier caractère, qui est 'm'\n",
    "        return float(value)\n",
    "\n",
    "def fill_height(height, replacement):\n",
    "    if pd.isnull(height):\n",
    "        print('Imputation par la moyenne : {}'.format(replacement))\n",
    "        return replacement\n",
    "    return height"
   ]
  },
  {
   "cell_type": "code",
   "execution_count": 7,
   "metadata": {},
   "outputs": [
    {
     "output_type": "stream",
     "name": "stdout",
     "text": [
      " - Il y a plusieurs parties dans \"['marco23@example.com', ' mc23@supermail.eu']\", ne gardons que marco23@example.com.\n - \"nan\" n'est pas un pays valide, nous le supprimons.\n - \"24\" n'est pas un pays valide, nous le supprimons.\n153cm n'est pas au bon format. Il sera ignoré.\nImputation par la moyenne : 1.52\nImputation par la moyenne : 1.52\n   prenom                     email date_naissance           pays  taille\n0   Leila         leila@example.com     1990-01-23         France    1.49\n1  Samuel    samuel_329@example.com     2001-09-20            NaN    1.67\n2   Radia  choupipoune@supermail.eu            NaT  Côte d'ivoire    1.52\n3    Marc       marco23@example.com     1978-02-10         France    1.65\n4    Heri   helloworld@supermail.eu     2008-03-05     Madagascar    1.34\n5   Hanna    hanna2019@supermail.eu     1970-01-01            NaN    1.52\n6  samuël    samuel_329@example.com            NaT          Bénin    1.45\n"
     ]
    }
   ],
   "source": [
    "data['email'] = data['email'].apply(first)\n",
    "data['pays'] = data['pays'].apply(check_country)\n",
    "data['taille'] = [convert_height(t) for t in data['taille']]\n",
    "data['taille'] = [t if t<3 else np.NaN for t in data['taille']]\n",
    "mean_height = data['taille'].mean()\n",
    "data['taille'] = [fill_height(t, mean_height) for t in data['taille']]\n",
    "data['date_naissance'] = pd.to_datetime(data['date_naissance'], \n",
    "                                           format='%d/%m/%Y', errors='coerce')\n",
    "print(data)"
   ]
  },
  {
   "cell_type": "code",
   "execution_count": 8,
   "metadata": {},
   "outputs": [
    {
     "output_type": "stream",
     "name": "stdout",
     "text": [
      "153cm n'est pas au bon format. Il sera ignoré.\n"
     ]
    }
   ],
   "source": [
    "data = pd.read_csv('personnes.csv')\n",
    "\n",
    "nouvelle_colonne = []\n",
    "for t in data['taille']:\n",
    "    nouvelle_colonne.append(convert_height(t))\n",
    "data['taille'] = nouvelle_colonne"
   ]
  },
  {
   "cell_type": "code",
   "execution_count": 9,
   "metadata": {},
   "outputs": [
    {
     "output_type": "stream",
     "name": "stdout",
     "text": [
      "153cm n'est pas au bon format. Il sera ignoré.\n"
     ]
    }
   ],
   "source": [
    "data = pd.read_csv('personnes.csv')\n",
    "\n",
    "data['taille'] = data['taille'].apply(convert_height)"
   ]
  },
  {
   "cell_type": "code",
   "execution_count": 10,
   "metadata": {},
   "outputs": [],
   "source": [
    "def convert_height(height):\n",
    "    found = re.search('\\d\\.\\d{2}m', height)\n",
    "    if found is None:\n",
    "        print('{} n\\'est pas au bon format. Il sera ignoré.'.format(height))\n",
    "        return np.NaN\n",
    "    else:\n",
    "        value = height[:-1] # on enlève le dernier caractère, qui est 'm'\n",
    "        return float(value)"
   ]
  },
  {
   "cell_type": "code",
   "execution_count": null,
   "metadata": {},
   "outputs": [],
   "source": []
  }
 ]
}